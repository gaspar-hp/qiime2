{
 "cells": [
  {
   "cell_type": "code",
   "execution_count": 1,
   "metadata": {
    "ExecuteTime": {
     "end_time": "2018-12-26T01:39:47.676608Z",
     "start_time": "2018-12-26T01:39:42.321444Z"
    }
   },
   "outputs": [],
   "source": [
    "import qiime2\n",
    "from qiime2.plugins import (feature_table, metadata, demux, quality_filter,\n",
    "                           deblur,alignment,phylogeny,diversity,emperor,\n",
    "                            taxa,composition,feature_classifier,dada2)\n",
    "from qiime2 import Artifact"
   ]
  },
  {
   "cell_type": "code",
   "execution_count": 5,
   "metadata": {
    "ExecuteTime": {
     "end_time": "2018-12-23T18:31:27.359101Z",
     "start_time": "2018-12-23T18:29:38.104047Z"
    },
    "code_folding": [
     0
    ],
    "collapsed": true
   },
   "outputs": [
    {
     "name": "stdout",
     "output_type": "stream",
     "text": [
      "--2018-12-23 15:29:38--  https://data.qiime2.org/2018.11/tutorials/fmt/sample_metadata.tsv\n",
      "Resolviendo data.qiime2.org... 104.27.170.158, 104.27.171.158, 2606:4700:30::681b:aa9e, ...\n",
      "Conectando con data.qiime2.org[104.27.170.158]:443... conectado.\n",
      "Petición HTTP enviada, esperando respuesta... 302 FOUND\n",
      "Localización: https://docs.google.com/spreadsheets/d/1gDLqE7jFs2eoir0kcBq8o_4ZtnPJxUcE3BB8pr3DOzo/export?gid=0&format=tsv [siguiendo]\n",
      "--2018-12-23 15:29:39--  https://docs.google.com/spreadsheets/d/1gDLqE7jFs2eoir0kcBq8o_4ZtnPJxUcE3BB8pr3DOzo/export?gid=0&format=tsv\n",
      "Resolviendo docs.google.com... 64.233.190.139, 64.233.190.101, 64.233.190.138, ...\n",
      "Conectando con docs.google.com[64.233.190.139]:443... conectado.\n",
      "Petición HTTP enviada, esperando respuesta... 200 OK\n",
      "Longitud: no especificado [text/tab-separated-values]\n",
      "Grabando a: “fecal_microb/sample_metadata.tsv”\n",
      "\n",
      "fecal_microb/sample     [ <=>                ]  15,65K  --.-KB/s    en 0,05s   \n",
      "\n",
      "2018-12-23 15:29:39 (299 KB/s) - “fecal_microb/sample_metadata.tsv” guardado [16026]\n",
      "\n",
      "--2018-12-23 15:29:39--  https://data.qiime2.org/2018.11/tutorials/fmt/fmt-tutorial-demux-1-10p.qza\n",
      "Resolviendo data.qiime2.org... 104.27.171.158, 104.27.170.158, 2606:4700:30::681b:ab9e, ...\n",
      "Conectando con data.qiime2.org[104.27.171.158]:443... conectado.\n",
      "Petición HTTP enviada, esperando respuesta... 302 FOUND\n",
      "Localización: https://s3-us-west-2.amazonaws.com/qiime2-data/2018.11/tutorials/fmt/fmt-tutorial-demux-1-10p.qza [siguiendo]\n",
      "--2018-12-23 15:29:40--  https://s3-us-west-2.amazonaws.com/qiime2-data/2018.11/tutorials/fmt/fmt-tutorial-demux-1-10p.qza\n",
      "Resolviendo s3-us-west-2.amazonaws.com... 52.218.232.144\n",
      "Conectando con s3-us-west-2.amazonaws.com[52.218.232.144]:443... conectado.\n",
      "Petición HTTP enviada, esperando respuesta... 200 OK\n",
      "Longitud: 20536136 (20M) [binary/octet-stream]\n",
      "Grabando a: “fecal_microb/fmt-tutorial-demux-1.qza”\n",
      "\n",
      "fecal_microb/fmt-tu 100%[===================>]  19,58M   284KB/s    en 74s     \n",
      "\n",
      "2018-12-23 15:30:56 (270 KB/s) - “fecal_microb/fmt-tutorial-demux-1.qza” guardado [20536136/20536136]\n",
      "\n",
      "--2018-12-23 15:30:56--  https://data.qiime2.org/2018.11/tutorials/fmt/fmt-tutorial-demux-2-10p.qza\n",
      "Resolviendo data.qiime2.org... 104.27.170.158, 104.27.171.158, 2606:4700:30::681b:aa9e, ...\n",
      "Conectando con data.qiime2.org[104.27.170.158]:443... conectado.\n",
      "Petición HTTP enviada, esperando respuesta... 302 FOUND\n",
      "Localización: https://s3-us-west-2.amazonaws.com/qiime2-data/2018.11/tutorials/fmt/fmt-tutorial-demux-2-10p.qza [siguiendo]\n",
      "--2018-12-23 15:30:57--  https://s3-us-west-2.amazonaws.com/qiime2-data/2018.11/tutorials/fmt/fmt-tutorial-demux-2-10p.qza\n",
      "Resolviendo s3-us-west-2.amazonaws.com... 52.218.224.80\n",
      "Conectando con s3-us-west-2.amazonaws.com[52.218.224.80]:443... conectado.\n",
      "Petición HTTP enviada, esperando respuesta... 200 OK\n",
      "Longitud: 8633726 (8,2M) [binary/octet-stream]\n",
      "Grabando a: “fecal_microb/fmt-tutorial-demux-2.qza”\n",
      "\n",
      "fecal_microb/fmt-tu 100%[===================>]   8,23M   304KB/s    en 29s     \n",
      "\n",
      "2018-12-23 15:31:27 (293 KB/s) - “fecal_microb/fmt-tutorial-demux-2.qza” guardado [8633726/8633726]\n",
      "\n"
     ]
    }
   ],
   "source": [
    "#create folder and get data\n",
    "#!mkdir fecal_microb\n",
    "!wget -O 'fecal_microb/sample_metadata.tsv' 'https://data.qiime2.org/2018.11/tutorials/fmt/sample_metadata.tsv'\n",
    "!wget -O 'fecal_microb/fmt-tutorial-demux-1.qza' 'https://data.qiime2.org/2018.11/tutorials/fmt/fmt-tutorial-demux-1-10p.qza'\n",
    "!wget -O 'fecal_microb/fmt-tutorial-demux-2.qza' 'https://data.qiime2.org/2018.11/tutorials/fmt/fmt-tutorial-demux-2-10p.qza'"
   ]
  },
  {
   "cell_type": "code",
   "execution_count": 43,
   "metadata": {
    "ExecuteTime": {
     "end_time": "2018-12-26T02:37:24.800280Z",
     "start_time": "2018-12-26T02:37:10.551689Z"
    },
    "code_folding": []
   },
   "outputs": [
    {
     "data": {
      "text/html": [
       "<div><img onload=\"(function(div, url){\n",
       "if (typeof require !== 'undefined') {\n",
       "    var baseURL = require.toUrl('').split('/').slice(0, -2).join('/');\n",
       "} else {\n",
       "    var baseURL = JSON.parse(\n",
       "        document.getElementById('jupyter-config-data').innerHTML\n",
       "    ).baseUrl.slice(0, -1);\n",
       "}\n",
       "url = baseURL + url;\n",
       "fetch(url).then(function(res) {\n",
       "    if (res.status === 404) {\n",
       "        div.innerHTML = 'Install QIIME 2 Jupyter extension with:<br />' +\n",
       "                        '<code>jupyter serverextension enable --py qiime2' +\n",
       "                        ' --sys-prefix</code><br />then restart your server.' +\n",
       "                        '<br /><br />(Interactive output not available on ' +\n",
       "                        'static notebook viewer services like nbviewer.)';\n",
       "    } else if (res.status === 409) {\n",
       "        div.innerHTML = 'Visualization no longer in scope. Re-run this cell' +\n",
       "                        ' to see the visualization.';\n",
       "    } else if (res.ok) {\n",
       "        url = res.url;\n",
       "        div.innerHTML = '<iframe src=\\'' + url + '\\' style=\\'' +\n",
       "                        'width: 100%; height: 700px; border: 0;\\'>' +\n",
       "                        '</iframe><hr />Open in a: <a href=\\'' + url + '\\'' +\n",
       "                        ' target=\\'_blank\\'>new window</a>'\n",
       "    } else {\n",
       "        div.innerHTML = 'Something has gone wrong. Check notebook server for' +\n",
       "                        ' errors.';\n",
       "    }\n",
       "});\n",
       "})(this.parentElement, '/qiime2/redirect?location=/tmp/qiime2-archive-uevnhk5u')\" src=\"data:image/gif;base64,R0lGODlhAQABAIAAAP///wAAACH5BAEAAAAALAAAAAABAAEAAAICRAEAOw==\" /></div>"
      ],
      "text/plain": [
       "<visualization: Visualization uuid: fbce375b-6d4e-4900-a42a-ce791d3e1143>"
      ]
     },
     "execution_count": 43,
     "metadata": {},
     "output_type": "execute_result"
    },
    {
     "data": {
      "image/png": "[encoded data removed]",
      "text/plain": [
       "<Figure size 432x288 with 1 Axes>"
      ]
     },
     "metadata": {
      "needs_background": "light"
     },
     "output_type": "display_data"
    }
   ],
   "source": [
    "#load data and demultiplex\n",
    "s_metadata = qiime2.Metadata.load('fecal_microb/sample_metadata.tsv')\n",
    "dmx_seq1= Artifact.load('fecal_microb/fmt-tutorial-demux-1.qza')\n",
    "dmx_seq2= Artifact.load('fecal_microb/fmt-tutorial-demux-2.qza')\n",
    "dmx_sum1 = demux.visualizers.summarize(dmx_seq1)\n",
    "dmx_sum2 = demux.visualizers.summarize(dmx_seq2)\n",
    "dmx_sum1.visualization"
   ]
  },
  {
   "cell_type": "code",
   "execution_count": 42,
   "metadata": {
    "ExecuteTime": {
     "end_time": "2018-12-26T02:36:53.309642Z",
     "start_time": "2018-12-26T02:36:53.301507Z"
    }
   },
   "outputs": [
    {
     "data": {
      "text/html": [
       "<div><img onload=\"(function(div, url){\n",
       "if (typeof require !== 'undefined') {\n",
       "    var baseURL = require.toUrl('').split('/').slice(0, -2).join('/');\n",
       "} else {\n",
       "    var baseURL = JSON.parse(\n",
       "        document.getElementById('jupyter-config-data').innerHTML\n",
       "    ).baseUrl.slice(0, -1);\n",
       "}\n",
       "url = baseURL + url;\n",
       "fetch(url).then(function(res) {\n",
       "    if (res.status === 404) {\n",
       "        div.innerHTML = 'Install QIIME 2 Jupyter extension with:<br />' +\n",
       "                        '<code>jupyter serverextension enable --py qiime2' +\n",
       "                        ' --sys-prefix</code><br />then restart your server.' +\n",
       "                        '<br /><br />(Interactive output not available on ' +\n",
       "                        'static notebook viewer services like nbviewer.)';\n",
       "    } else if (res.status === 409) {\n",
       "        div.innerHTML = 'Visualization no longer in scope. Re-run this cell' +\n",
       "                        ' to see the visualization.';\n",
       "    } else if (res.ok) {\n",
       "        url = res.url;\n",
       "        div.innerHTML = '<iframe src=\\'' + url + '\\' style=\\'' +\n",
       "                        'width: 100%; height: 700px; border: 0;\\'>' +\n",
       "                        '</iframe><hr />Open in a: <a href=\\'' + url + '\\'' +\n",
       "                        ' target=\\'_blank\\'>new window</a>'\n",
       "    } else {\n",
       "        div.innerHTML = 'Something has gone wrong. Check notebook server for' +\n",
       "                        ' errors.';\n",
       "    }\n",
       "});\n",
       "})(this.parentElement, '/qiime2/redirect?location=/tmp/qiime2-archive-sl_o8grm')\" src=\"data:image/gif;base64,R0lGODlhAQABAIAAAP///wAAACH5BAEAAAAALAAAAAABAAEAAAICRAEAOw==\" /></div>"
      ],
      "text/plain": [
       "<visualization: Visualization uuid: 9989c69a-f6d0-4bb2-93a8-698851618ddc>"
      ]
     },
     "execution_count": 42,
     "metadata": {},
     "output_type": "execute_result"
    }
   ],
   "source": [
    "dmx_sum2.visualization"
   ]
  },
  {
   "cell_type": "code",
   "execution_count": 3,
   "metadata": {
    "ExecuteTime": {
     "end_time": "2018-12-26T01:48:26.009404Z",
     "start_time": "2018-12-26T01:40:02.309246Z"
    },
    "collapsed": true
   },
   "outputs": [
    {
     "name": "stdout",
     "output_type": "stream",
     "text": [
      "Running external command line application(s). This may print messages to stdout and/or stderr.\n",
      "The command(s) being run are below. These commands cannot be manually re-run as they will depend on temporary files that no longer exist.\n",
      "\n",
      "Command: run_dada_single.R /tmp/qiime2-archive-hhexeeax/5db90b62-c6e4-4c09-8c79-c0cdfbe2cea0/data /tmp/tmp716rjnlz/output.tsv.biom /tmp/tmp716rjnlz/track.tsv /tmp/tmp716rjnlz 150 13 2.0 2 Inf consensus 1.0 0 1000000 NULL 16\n",
      "\n"
     ]
    }
   ],
   "source": [
    "#denoise with dada2, n_threads=0 uses all the available threads to filter\n",
    "dada2_seq1 = dada2.methods.denoise_single(dmx_seq1,trim_left=13,trunc_len=150,\n",
    "                                         n_threads=0)"
   ]
  },
  {
   "cell_type": "code",
   "execution_count": 4,
   "metadata": {
    "ExecuteTime": {
     "end_time": "2018-12-26T01:52:25.985228Z",
     "start_time": "2018-12-26T01:48:26.013481Z"
    },
    "collapsed": true
   },
   "outputs": [
    {
     "name": "stdout",
     "output_type": "stream",
     "text": [
      "Running external command line application(s). This may print messages to stdout and/or stderr.\n",
      "The command(s) being run are below. These commands cannot be manually re-run as they will depend on temporary files that no longer exist.\n",
      "\n",
      "Command: run_dada_single.R /tmp/qiime2-archive-aknkia2x/5f459ea8-c6a8-438e-b42f-35e4f86166d7/data /tmp/tmp0blqu1ox/output.tsv.biom /tmp/tmp0blqu1ox/track.tsv /tmp/tmp0blqu1ox 150 13 2.0 2 Inf consensus 1.0 0 1000000 NULL 16\n",
      "\n"
     ]
    }
   ],
   "source": [
    "dada2_seq2 = dada2.methods.denoise_single(dmx_seq2,trim_left=13,trunc_len=150,\n",
    "                                         n_threads=0)"
   ]
  },
  {
   "cell_type": "code",
   "execution_count": 5,
   "metadata": {
    "ExecuteTime": {
     "end_time": "2018-12-26T01:52:26.333815Z",
     "start_time": "2018-12-26T01:52:25.989462Z"
    },
    "collapsed": true
   },
   "outputs": [
    {
     "data": {
      "text/html": [
       "<div><img onload=\"(function(div, url){\n",
       "if (typeof require !== 'undefined') {\n",
       "    var baseURL = require.toUrl('').split('/').slice(0, -2).join('/');\n",
       "} else {\n",
       "    var baseURL = JSON.parse(\n",
       "        document.getElementById('jupyter-config-data').innerHTML\n",
       "    ).baseUrl.slice(0, -1);\n",
       "}\n",
       "url = baseURL + url;\n",
       "fetch(url).then(function(res) {\n",
       "    if (res.status === 404) {\n",
       "        div.innerHTML = 'Install QIIME 2 Jupyter extension with:<br />' +\n",
       "                        '<code>jupyter serverextension enable --py qiime2' +\n",
       "                        ' --sys-prefix</code><br />then restart your server.' +\n",
       "                        '<br /><br />(Interactive output not available on ' +\n",
       "                        'static notebook viewer services like nbviewer.)';\n",
       "    } else if (res.status === 409) {\n",
       "        div.innerHTML = 'Visualization no longer in scope. Re-run this cell' +\n",
       "                        ' to see the visualization.';\n",
       "    } else if (res.ok) {\n",
       "        url = res.url;\n",
       "        div.innerHTML = '<iframe src=\\'' + url + '\\' style=\\'' +\n",
       "                        'width: 100%; height: 700px; border: 0;\\'>' +\n",
       "                        '</iframe><hr />Open in a: <a href=\\'' + url + '\\'' +\n",
       "                        ' target=\\'_blank\\'>new window</a>'\n",
       "    } else {\n",
       "        div.innerHTML = 'Something has gone wrong. Check notebook server for' +\n",
       "                        ' errors.';\n",
       "    }\n",
       "});\n",
       "})(this.parentElement, '/qiime2/redirect?location=/tmp/qiime2-archive-1uig81a3')\" src=\"data:image/gif;base64,R0lGODlhAQABAIAAAP///wAAACH5BAEAAAAALAAAAAABAAEAAAICRAEAOw==\" /></div>"
      ],
      "text/plain": [
       "<visualization: Visualization uuid: 32d73ff2-a2dd-4914-a315-57d33c5a49e3>"
      ]
     },
     "execution_count": 5,
     "metadata": {},
     "output_type": "execute_result"
    }
   ],
   "source": [
    "dada2_1 = metadata.visualizers.tabulate(\n",
    "                dada2_seq1.denoising_stats.view(qiime2.Metadata))\n",
    "dada2_2 = metadata.visualizers.tabulate(\n",
    "                dada2_seq2.denoising_stats.view(qiime2.Metadata))\n",
    "dada2_1.visualization"
   ]
  },
  {
   "cell_type": "code",
   "execution_count": 36,
   "metadata": {
    "ExecuteTime": {
     "end_time": "2018-12-24T04:03:52.536841Z",
     "start_time": "2018-12-24T04:03:52.525620Z"
    }
   },
   "outputs": [
    {
     "data": {
      "text/html": [
       "<div><img onload=\"(function(div, url){\n",
       "if (typeof require !== 'undefined') {\n",
       "    var baseURL = require.toUrl('').split('/').slice(0, -2).join('/');\n",
       "} else {\n",
       "    var baseURL = JSON.parse(\n",
       "        document.getElementById('jupyter-config-data').innerHTML\n",
       "    ).baseUrl.slice(0, -1);\n",
       "}\n",
       "url = baseURL + url;\n",
       "fetch(url).then(function(res) {\n",
       "    if (res.status === 404) {\n",
       "        div.innerHTML = 'Install QIIME 2 Jupyter extension with:<br />' +\n",
       "                        '<code>jupyter serverextension enable --py qiime2' +\n",
       "                        ' --sys-prefix</code><br />then restart your server.' +\n",
       "                        '<br /><br />(Interactive output not available on ' +\n",
       "                        'static notebook viewer services like nbviewer.)';\n",
       "    } else if (res.status === 409) {\n",
       "        div.innerHTML = 'Visualization no longer in scope. Re-run this cell' +\n",
       "                        ' to see the visualization.';\n",
       "    } else if (res.ok) {\n",
       "        url = res.url;\n",
       "        div.innerHTML = '<iframe src=\\'' + url + '\\' style=\\'' +\n",
       "                        'width: 100%; height: 700px; border: 0;\\'>' +\n",
       "                        '</iframe><hr />Open in a: <a href=\\'' + url + '\\'' +\n",
       "                        ' target=\\'_blank\\'>new window</a>'\n",
       "    } else {\n",
       "        div.innerHTML = 'Something has gone wrong. Check notebook server for' +\n",
       "                        ' errors.';\n",
       "    }\n",
       "});\n",
       "})(this.parentElement, '/qiime2/redirect?location=/tmp/qiime2-archive-16v3x1a5')\" src=\"data:image/gif;base64,R0lGODlhAQABAIAAAP///wAAACH5BAEAAAAALAAAAAABAAEAAAICRAEAOw==\" /></div>"
      ],
      "text/plain": [
       "<visualization: Visualization uuid: 68c50120-3f0a-4fda-bfcd-ed5d1d96e0c3>"
      ]
     },
     "execution_count": 36,
     "metadata": {},
     "output_type": "execute_result"
    }
   ],
   "source": [
    "dada2_2.visualization"
   ]
  },
  {
   "cell_type": "code",
   "execution_count": 30,
   "metadata": {
    "ExecuteTime": {
     "end_time": "2018-12-26T02:17:51.382850Z",
     "start_time": "2018-12-26T02:17:50.505279Z"
    },
    "code_folding": []
   },
   "outputs": [],
   "source": [
    "# merge denoised data\n",
    "merged_table = feature_table.methods.merge([dada2_seq1.table,dada2_seq2.table])\n",
    "merged_seq = feature_table.methods.merge_seqs(\n",
    "                [dada2_seq1.representative_sequences,\n",
    "                 dada2_seq2.representative_sequences])"
   ]
  },
  {
   "cell_type": "code",
   "execution_count": 34,
   "metadata": {
    "ExecuteTime": {
     "end_time": "2018-12-26T02:21:11.221456Z",
     "start_time": "2018-12-26T02:21:07.928212Z"
    },
    "code_folding": []
   },
   "outputs": [],
   "source": [
    "merged_sum = feature_table.visualizers.summarize(merged_table.merged_table,\n",
    "                                                sample_metadata=s_metadata)"
   ]
  },
  {
   "cell_type": "code",
   "execution_count": 41,
   "metadata": {
    "ExecuteTime": {
     "end_time": "2018-12-26T02:24:32.065679Z",
     "start_time": "2018-12-26T02:24:32.034029Z"
    },
    "scrolled": false
   },
   "outputs": [
    {
     "data": {
      "text/html": [
       "<div><img onload=\"(function(div, url){\n",
       "if (typeof require !== 'undefined') {\n",
       "    var baseURL = require.toUrl('').split('/').slice(0, -2).join('/');\n",
       "} else {\n",
       "    var baseURL = JSON.parse(\n",
       "        document.getElementById('jupyter-config-data').innerHTML\n",
       "    ).baseUrl.slice(0, -1);\n",
       "}\n",
       "url = baseURL + url;\n",
       "fetch(url).then(function(res) {\n",
       "    if (res.status === 404) {\n",
       "        div.innerHTML = 'Install QIIME 2 Jupyter extension with:<br />' +\n",
       "                        '<code>jupyter serverextension enable --py qiime2' +\n",
       "                        ' --sys-prefix</code><br />then restart your server.' +\n",
       "                        '<br /><br />(Interactive output not available on ' +\n",
       "                        'static notebook viewer services like nbviewer.)';\n",
       "    } else if (res.status === 409) {\n",
       "        div.innerHTML = 'Visualization no longer in scope. Re-run this cell' +\n",
       "                        ' to see the visualization.';\n",
       "    } else if (res.ok) {\n",
       "        url = res.url;\n",
       "        div.innerHTML = '<iframe src=\\'' + url + '\\' style=\\'' +\n",
       "                        'width: 100%; height: 700px; border: 0;\\'>' +\n",
       "                        '</iframe><hr />Open in a: <a href=\\'' + url + '\\'' +\n",
       "                        ' target=\\'_blank\\'>new window</a>'\n",
       "    } else {\n",
       "        div.innerHTML = 'Something has gone wrong. Check notebook server for' +\n",
       "                        ' errors.';\n",
       "    }\n",
       "});\n",
       "})(this.parentElement, '/qiime2/redirect?location=/tmp/qiime2-archive-62u6kb9i')\" src=\"data:image/gif;base64,R0lGODlhAQABAIAAAP///wAAACH5BAEAAAAALAAAAAABAAEAAAICRAEAOw==\" /></div>"
      ],
      "text/plain": [
       "<visualization: Visualization uuid: 1e677cc9-0137-4a17-ac85-60a704e1f85a>"
      ]
     },
     "execution_count": 41,
     "metadata": {},
     "output_type": "execute_result"
    }
   ],
   "source": [
    "%matplotlib inline\n",
    "merged_sum.visualization"
   ]
  },
  {
   "cell_type": "code",
   "execution_count": 44,
   "metadata": {
    "ExecuteTime": {
     "end_time": "2018-12-26T16:10:17.279547Z",
     "start_time": "2018-12-26T16:10:14.439867Z"
    }
   },
   "outputs": [
    {
     "data": {
      "image/png": "[encoded data removed]",
      "text/plain": [
       "<Figure size 432x288 with 1 Axes>"
      ]
     },
     "metadata": {
      "needs_background": "light"
     },
     "output_type": "display_data"
    }
   ],
   "source": [
    "merged_seq = feature_table.visualizers.summarize(,\n",
    "                                                sample_metadata=s_metadata)"
   ]
  },
  {
   "cell_type": "code",
   "execution_count": null,
   "metadata": {},
   "outputs": [],
   "source": [
    "\n"
   ]
  }
 ],
 "metadata": {
  "hide_input": false,
  "kernelspec": {
   "display_name": "Python 3",
   "language": "python",
   "name": "python3"
  },
  "language_info": {
   "codemirror_mode": {
    "name": "ipython",
    "version": 3
   },
   "file_extension": ".py",
   "mimetype": "text/x-python",
   "name": "python",
   "nbconvert_exporter": "python",
   "pygments_lexer": "ipython3",
   "version": "3.5.5"
  },
  "latex_envs": {
   "LaTeX_envs_menu_present": true,
   "autoclose": false,
   "autocomplete": true,
   "bibliofile": "biblio.bib",
   "cite_by": "apalike",
   "current_citInitial": 1,
   "eqLabelWithNumbers": true,
   "eqNumInitial": 1,
   "hotkeys": {
    "equation": "Ctrl-E",
    "itemize": "Ctrl-I"
   },
   "labels_anchors": false,
   "latex_user_defs": false,
   "report_style_numbering": false,
   "user_envs_cfg": false
  },
  "nbTranslate": {
   "displayLangs": [
    "*"
   ],
   "hotkey": "alt-t",
   "langInMainMenu": true,
   "sourceLang": "en",
   "targetLang": "fr",
   "useGoogleTranslate": true
  },
  "toc": {
   "nav_menu": {},
   "number_sections": true,
   "sideBar": true,
   "skip_h1_title": false,
   "title_cell": "Table of Contents",
   "title_sidebar": "Contents",
   "toc_cell": false,
   "toc_position": {},
   "toc_section_display": true,
   "toc_window_display": false
  }
 },
 "nbformat": 4,
 "nbformat_minor": 2
}
